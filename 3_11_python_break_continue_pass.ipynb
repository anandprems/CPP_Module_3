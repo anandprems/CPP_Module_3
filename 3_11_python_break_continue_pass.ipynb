{
  "cells": [
    {
      "cell_type": "markdown",
      "source": [
        "![image.png](data:image/png;base64,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)"
      ],
      "metadata": {
        "id": "OffqB6-dd_dR"
      },
      "id": "OffqB6-dd_dR"
    },
    {
      "cell_type": "code",
      "execution_count": 1,
      "id": "6b9781ad",
      "metadata": {
        "colab": {
          "base_uri": "https://localhost:8080/"
        },
        "id": "6b9781ad",
        "outputId": "e8de182a-9688-4235-87a4-b0eb0feedc76"
      },
      "outputs": [
        {
          "output_type": "stream",
          "name": "stdout",
          "text": [
            "P\n",
            "y\n",
            "t\n",
            "h\n",
            "The end\n"
          ]
        }
      ],
      "source": [
        "# Use of break statement inside the loop\n",
        "for val in \"Python\":\n",
        "    if val == \"o\":\n",
        "        break\n",
        "    print(val)\n",
        "\n",
        "print(\"The end\")"
      ]
    },
    {
      "cell_type": "code",
      "execution_count": 2,
      "id": "372f4df2",
      "metadata": {
        "colab": {
          "base_uri": "https://localhost:8080/"
        },
        "id": "372f4df2",
        "outputId": "6b2a6ea4-0344-48af-b29c-0e034b8c68b7"
      },
      "outputs": [
        {
          "output_type": "stream",
          "name": "stdout",
          "text": [
            "P\n",
            "y\n",
            "t\n",
            "h\n",
            "n\n",
            "The end\n"
          ]
        }
      ],
      "source": [
        " #Program to show the use of continue statement inside loops\n",
        "\n",
        "for val in \"Python\":\n",
        "    if val == \"o\":\n",
        "        continue\n",
        "    print(val)\n",
        "\n",
        "print(\"The end\")"
      ]
    },
    {
      "cell_type": "code",
      "source": [
        "'''pass is just a placeholder for\n",
        "functionality to be added later.'''\n",
        "sequence = {'p', 'a', 's', 's'}\n",
        "for val in sequence:\n",
        "    #will do later"
      ],
      "metadata": {
        "colab": {
          "base_uri": "https://localhost:8080/",
          "height": 130
        },
        "id": "PW5hsy-YcGhO",
        "outputId": "a23e2190-3d3c-4ba6-aa8a-e4ce50d1b32f"
      },
      "id": "PW5hsy-YcGhO",
      "execution_count": 4,
      "outputs": [
        {
          "output_type": "error",
          "ename": "SyntaxError",
          "evalue": "ignored",
          "traceback": [
            "\u001b[0;36m  File \u001b[0;32m\"<ipython-input-4-04a25a597dde>\"\u001b[0;36m, line \u001b[0;32m5\u001b[0m\n\u001b[0;31m    #will do later\u001b[0m\n\u001b[0m                  ^\u001b[0m\n\u001b[0;31mSyntaxError\u001b[0m\u001b[0;31m:\u001b[0m unexpected EOF while parsing\n"
          ]
        }
      ]
    },
    {
      "cell_type": "code",
      "source": [
        "'''pass is just a placeholder for\n",
        "functionality to be added later.'''\n",
        "sequence = {'p', 'a', 's', 's'}\n",
        "for val in sequence:\n",
        "    pass"
      ],
      "metadata": {
        "id": "DvsxxXh_cIVL"
      },
      "id": "DvsxxXh_cIVL",
      "execution_count": 5,
      "outputs": []
    },
    {
      "cell_type": "code",
      "execution_count": 3,
      "id": "8ed0c50e",
      "metadata": {
        "colab": {
          "base_uri": "https://localhost:8080/"
        },
        "id": "8ed0c50e",
        "outputId": "966e2528-d9cd-40bb-a645-3a9f3a6f44f4"
      },
      "outputs": [
        {
          "output_type": "stream",
          "name": "stdout",
          "text": [
            "p\n",
            "r\n",
            "e\n",
            "pass executed\n",
            "m\n",
            "a\n",
            "n\n",
            "a\n",
            "n\n",
            "d\n",
            "----\n",
            "p\n",
            "r\n",
            "e\n",
            "continue executed\n",
            "a\n",
            "n\n",
            "a\n",
            "n\n",
            "d\n",
            "----\n",
            "p\n",
            "r\n",
            "e\n",
            "break executed\n"
          ]
        }
      ],
      "source": [
        "for i in 'premanand':\n",
        "    if(i == 'm'):\n",
        "        print('pass executed')\n",
        "        pass\n",
        "    print(i)\n",
        "\n",
        "print('----')\n",
        "\n",
        "for i in 'premanand':\n",
        "    if(i == 'm'):\n",
        "        print('continue executed')\n",
        "        continue\n",
        "    print(i)\n",
        "\n",
        "print('----')\n",
        "\n",
        "for i in 'premanand':\n",
        "    if(i == 'm'):\n",
        "        print('break executed')\n",
        "        break\n",
        "    print(i)"
      ]
    },
    {
      "cell_type": "code",
      "execution_count": null,
      "id": "420cbd9a",
      "metadata": {
        "id": "420cbd9a"
      },
      "outputs": [],
      "source": []
    }
  ],
  "metadata": {
    "kernelspec": {
      "display_name": "Python 3 (ipykernel)",
      "language": "python",
      "name": "python3"
    },
    "language_info": {
      "codemirror_mode": {
        "name": "ipython",
        "version": 3
      },
      "file_extension": ".py",
      "mimetype": "text/x-python",
      "name": "python",
      "nbconvert_exporter": "python",
      "pygments_lexer": "ipython3",
      "version": "3.9.7"
    },
    "colab": {
      "provenance": []
    }
  },
  "nbformat": 4,
  "nbformat_minor": 5
}
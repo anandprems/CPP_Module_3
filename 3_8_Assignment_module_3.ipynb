{
  "nbformat": 4,
  "nbformat_minor": 0,
  "metadata": {
    "colab": {
      "provenance": []
    },
    "kernelspec": {
      "name": "python3",
      "display_name": "Python 3"
    },
    "language_info": {
      "name": "python"
    }
  },
  "cells": [
    {
      "cell_type": "code",
      "source": [
        "# Multiplication table (from 1 to 10) in Python\n",
        "\n",
        "num = 10\n",
        "\n",
        "# To take input from the user\n",
        "# num = int(input(\"Display multiplication table of? \"))\n",
        "\n",
        "# Iterate 10 times from i = 1 to 10\n",
        "for i in range(1, 11):\n",
        "   print(num, 'x', i, '=', num*i)\n"
      ],
      "metadata": {
        "colab": {
          "base_uri": "https://localhost:8080/"
        },
        "id": "sjvX4sZh67eM",
        "outputId": "b4370e46-a3a6-4b7c-8d05-aa9cce97e93c"
      },
      "execution_count": 8,
      "outputs": [
        {
          "output_type": "stream",
          "name": "stdout",
          "text": [
            "10 x 1 = 10\n",
            "10 x 2 = 20\n",
            "10 x 3 = 30\n",
            "10 x 4 = 40\n",
            "10 x 5 = 50\n",
            "10 x 6 = 60\n",
            "10 x 7 = 70\n",
            "10 x 8 = 80\n",
            "10 x 9 = 90\n",
            "10 x 10 = 100\n"
          ]
        }
      ]
    },
    {
      "cell_type": "code",
      "source": [
        "# Sum of natural numbers up to num\n",
        "\n",
        "num = 20\n",
        "\n",
        "if num < 0:\n",
        "   print(\"Enter a positive number\")\n",
        "else:\n",
        "   sum = 0\n",
        "   # use while loop to iterate until zero\n",
        "   while(num > 0):\n",
        "       sum += num\n",
        "       num -= 1\n",
        "   print(\"The sum is\", sum)\n"
      ],
      "metadata": {
        "colab": {
          "base_uri": "https://localhost:8080/"
        },
        "id": "McGYG41G6r6D",
        "outputId": "c8425177-40b5-4c0c-b435-c0c5137eec55"
      },
      "execution_count": 7,
      "outputs": [
        {
          "output_type": "stream",
          "name": "stdout",
          "text": [
            "The sum is 210\n"
          ]
        }
      ]
    },
    {
      "cell_type": "code",
      "source": [
        "print(\"Half Pyramid Pattern of Stars (*):\")\n",
        "for i in range(5):\n",
        "    for j in range(i+1):\n",
        "        print(\"* \", end=\"\")\n",
        "    print()"
      ],
      "metadata": {
        "colab": {
          "base_uri": "https://localhost:8080/"
        },
        "id": "fKL_UUvG30WO",
        "outputId": "d0a12208-ae0f-4294-e6ad-29592b31d716"
      },
      "execution_count": 1,
      "outputs": [
        {
          "output_type": "stream",
          "name": "stdout",
          "text": [
            "Half Pyramid Pattern of Stars (*):\n",
            "* \n",
            "* * \n",
            "* * * \n",
            "* * * * \n",
            "* * * * * \n"
          ]
        }
      ]
    },
    {
      "cell_type": "code",
      "source": [
        "print(\"Inverted Half Pyramid of Stars (*):\")\n",
        "for i in range(5):\n",
        "    for j in range(i, 5):\n",
        "        print(\"* \", end=\"\")\n",
        "    print()"
      ],
      "metadata": {
        "colab": {
          "base_uri": "https://localhost:8080/"
        },
        "id": "QLVZZUaE4Gle",
        "outputId": "f7960cc7-d4ad-487a-dc62-446c9a15717f"
      },
      "execution_count": 2,
      "outputs": [
        {
          "output_type": "stream",
          "name": "stdout",
          "text": [
            "Inverted Half Pyramid of Stars (*):\n",
            "* * * * * \n",
            "* * * * \n",
            "* * * \n",
            "* * \n",
            "* \n"
          ]
        }
      ]
    },
    {
      "cell_type": "code",
      "source": [
        "print(\"Full Pyramid Pattern of Stars (*): \")\n",
        "for i in range(5):\n",
        "    for s in range(-6, -i):\n",
        "        print(\" \", end=\"\")\n",
        "    for j in range(i+1):\n",
        "        print(\"* \", end=\"\")\n",
        "    print()"
      ],
      "metadata": {
        "colab": {
          "base_uri": "https://localhost:8080/"
        },
        "id": "Ea63vU7G3aLN",
        "outputId": "fc3251d1-dfff-4010-c699-e003f51a4b47"
      },
      "execution_count": 3,
      "outputs": [
        {
          "output_type": "stream",
          "name": "stdout",
          "text": [
            "Full Pyramid Pattern of Stars (*): \n",
            "      * \n",
            "     * * \n",
            "    * * * \n",
            "   * * * * \n",
            "  * * * * * \n"
          ]
        }
      ]
    },
    {
      "cell_type": "code",
      "source": [
        "print(\"Inverted Full Pyramid of Stars (*): \")\n",
        "for i in range(5):\n",
        "    for s in range(i):\n",
        "        print(\" \", end=\"\")\n",
        "    for j in range(i, 5):\n",
        "        print(\"* \", end=\"\")\n",
        "    print()"
      ],
      "metadata": {
        "colab": {
          "base_uri": "https://localhost:8080/"
        },
        "id": "2YQMktXj3hcE",
        "outputId": "af53fbd6-5bad-4282-b7e7-1b84deb10219"
      },
      "execution_count": 4,
      "outputs": [
        {
          "output_type": "stream",
          "name": "stdout",
          "text": [
            "Inverted Full Pyramid of Stars (*): \n",
            "* * * * * \n",
            " * * * * \n",
            "  * * * \n",
            "   * * \n",
            "    * \n"
          ]
        }
      ]
    },
    {
      "cell_type": "code",
      "source": [
        "print(\"Enter Number of Rows: \")\n",
        "row = int(input())\n",
        "print(\"Star Pyramid of \" + str(row) + \" Rows or Lines: \")\n",
        "for i in range(row):\n",
        "    for s in range(row, i, -1):\n",
        "        print(end=\" \")\n",
        "    for j in range(i+1):\n",
        "        print(end=\"* \")\n",
        "    print()"
      ],
      "metadata": {
        "colab": {
          "base_uri": "https://localhost:8080/"
        },
        "id": "InWMXhqe4dlj",
        "outputId": "88c1af37-7acc-4247-c27a-ec48219bef14"
      },
      "execution_count": 5,
      "outputs": [
        {
          "output_type": "stream",
          "name": "stdout",
          "text": [
            "Enter Number of Rows: \n",
            "10\n",
            "Star Pyramid of 10 Rows or Lines: \n",
            "          * \n",
            "         * * \n",
            "        * * * \n",
            "       * * * * \n",
            "      * * * * * \n",
            "     * * * * * * \n",
            "    * * * * * * * \n",
            "   * * * * * * * * \n",
            "  * * * * * * * * * \n",
            " * * * * * * * * * * \n"
          ]
        }
      ]
    },
    {
      "cell_type": "code",
      "source": [
        "print(\"Pattern of Stars (*): \")\n",
        "k = 1\n",
        "for i in range(5):\n",
        "    for j in range(k):\n",
        "        print(\"* \", end=\"\")\n",
        "    k = k + 2\n",
        "    print()"
      ],
      "metadata": {
        "colab": {
          "base_uri": "https://localhost:8080/"
        },
        "id": "sEjN83km4lNy",
        "outputId": "f0bd3384-9e62-4703-eef0-0644f117917b"
      },
      "execution_count": 6,
      "outputs": [
        {
          "output_type": "stream",
          "name": "stdout",
          "text": [
            "Pattern of Stars (*): \n",
            "* \n",
            "* * * \n",
            "* * * * * \n",
            "* * * * * * * \n",
            "* * * * * * * * * \n"
          ]
        }
      ]
    },
    {
      "cell_type": "code",
      "source": [],
      "metadata": {
        "id": "NqOTwXff41A8"
      },
      "execution_count": null,
      "outputs": []
    }
  ]
}